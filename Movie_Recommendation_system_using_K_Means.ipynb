{
  "nbformat": 4,
  "nbformat_minor": 0,
  "metadata": {
    "colab": {
      "name": "Movie Recommendation system using K-Means",
      "provenance": []
    },
    "kernelspec": {
      "name": "python3",
      "display_name": "Python 3"
    }
  },
  "cells": [
    {
      "cell_type": "code",
      "metadata": {
        "id": "2epapHb0X-VQ",
        "colab": {
          "base_uri": "https://localhost:8080/",
          "height": 204
        },
        "outputId": "7394f973-9ab6-4dc4-b11f-434811becba3"
      },
      "source": [
        "import pandas as pd\n",
        "import matplotlib.pyplot as plt\n",
        "import numpy as np\n",
        "from scipy.sparse import csr_matrix\n",
        "\n",
        "# Import the Movies dataset\n",
        "movies = pd.read_csv('/content/drive/My Drive/Colab Notebooks/dataset(445)/ml-latest-small/movies.csv')\n",
        "movies.head()"
      ],
      "execution_count": null,
      "outputs": [
        {
          "output_type": "execute_result",
          "data": {
            "text/html": [
              "<div>\n",
              "<style scoped>\n",
              "    .dataframe tbody tr th:only-of-type {\n",
              "        vertical-align: middle;\n",
              "    }\n",
              "\n",
              "    .dataframe tbody tr th {\n",
              "        vertical-align: top;\n",
              "    }\n",
              "\n",
              "    .dataframe thead th {\n",
              "        text-align: right;\n",
              "    }\n",
              "</style>\n",
              "<table border=\"1\" class=\"dataframe\">\n",
              "  <thead>\n",
              "    <tr style=\"text-align: right;\">\n",
              "      <th></th>\n",
              "      <th>movieId</th>\n",
              "      <th>title</th>\n",
              "      <th>genres</th>\n",
              "    </tr>\n",
              "  </thead>\n",
              "  <tbody>\n",
              "    <tr>\n",
              "      <th>0</th>\n",
              "      <td>1</td>\n",
              "      <td>Toy Story (1995)</td>\n",
              "      <td>Adventure|Animation|Children|Comedy|Fantasy</td>\n",
              "    </tr>\n",
              "    <tr>\n",
              "      <th>1</th>\n",
              "      <td>2</td>\n",
              "      <td>Jumanji (1995)</td>\n",
              "      <td>Adventure|Children|Fantasy</td>\n",
              "    </tr>\n",
              "    <tr>\n",
              "      <th>2</th>\n",
              "      <td>3</td>\n",
              "      <td>Grumpier Old Men (1995)</td>\n",
              "      <td>Comedy|Romance</td>\n",
              "    </tr>\n",
              "    <tr>\n",
              "      <th>3</th>\n",
              "      <td>4</td>\n",
              "      <td>Waiting to Exhale (1995)</td>\n",
              "      <td>Comedy|Drama|Romance</td>\n",
              "    </tr>\n",
              "    <tr>\n",
              "      <th>4</th>\n",
              "      <td>5</td>\n",
              "      <td>Father of the Bride Part II (1995)</td>\n",
              "      <td>Comedy</td>\n",
              "    </tr>\n",
              "  </tbody>\n",
              "</table>\n",
              "</div>"
            ],
            "text/plain": [
              "   movieId                               title  \\\n",
              "0        1                    Toy Story (1995)   \n",
              "1        2                      Jumanji (1995)   \n",
              "2        3             Grumpier Old Men (1995)   \n",
              "3        4            Waiting to Exhale (1995)   \n",
              "4        5  Father of the Bride Part II (1995)   \n",
              "\n",
              "                                        genres  \n",
              "0  Adventure|Animation|Children|Comedy|Fantasy  \n",
              "1                   Adventure|Children|Fantasy  \n",
              "2                               Comedy|Romance  \n",
              "3                         Comedy|Drama|Romance  \n",
              "4                                       Comedy  "
            ]
          },
          "metadata": {
            "tags": []
          },
          "execution_count": 1
        }
      ]
    },
    {
      "cell_type": "code",
      "metadata": {
        "id": "zJh0s9iYYRnK"
      },
      "source": [
        ""
      ],
      "execution_count": null,
      "outputs": []
    },
    {
      "cell_type": "code",
      "metadata": {
        "id": "Xq-_KEGmYl0f",
        "colab": {
          "base_uri": "https://localhost:8080/",
          "height": 204
        },
        "outputId": "6fa6bf2d-4432-4402-86fb-61766d30f8c0"
      },
      "source": [
        "# Import the ratings dataset\n",
        "ratings = pd.read_csv('/content/drive/My Drive/Colab Notebooks/dataset(445)/ml-latest-small/ratings.csv')\n",
        "ratings.head()"
      ],
      "execution_count": null,
      "outputs": [
        {
          "output_type": "execute_result",
          "data": {
            "text/html": [
              "<div>\n",
              "<style scoped>\n",
              "    .dataframe tbody tr th:only-of-type {\n",
              "        vertical-align: middle;\n",
              "    }\n",
              "\n",
              "    .dataframe tbody tr th {\n",
              "        vertical-align: top;\n",
              "    }\n",
              "\n",
              "    .dataframe thead th {\n",
              "        text-align: right;\n",
              "    }\n",
              "</style>\n",
              "<table border=\"1\" class=\"dataframe\">\n",
              "  <thead>\n",
              "    <tr style=\"text-align: right;\">\n",
              "      <th></th>\n",
              "      <th>userId</th>\n",
              "      <th>movieId</th>\n",
              "      <th>rating</th>\n",
              "      <th>timestamp</th>\n",
              "    </tr>\n",
              "  </thead>\n",
              "  <tbody>\n",
              "    <tr>\n",
              "      <th>0</th>\n",
              "      <td>1</td>\n",
              "      <td>1</td>\n",
              "      <td>4.0</td>\n",
              "      <td>964982703</td>\n",
              "    </tr>\n",
              "    <tr>\n",
              "      <th>1</th>\n",
              "      <td>1</td>\n",
              "      <td>3</td>\n",
              "      <td>4.0</td>\n",
              "      <td>964981247</td>\n",
              "    </tr>\n",
              "    <tr>\n",
              "      <th>2</th>\n",
              "      <td>1</td>\n",
              "      <td>6</td>\n",
              "      <td>4.0</td>\n",
              "      <td>964982224</td>\n",
              "    </tr>\n",
              "    <tr>\n",
              "      <th>3</th>\n",
              "      <td>1</td>\n",
              "      <td>47</td>\n",
              "      <td>5.0</td>\n",
              "      <td>964983815</td>\n",
              "    </tr>\n",
              "    <tr>\n",
              "      <th>4</th>\n",
              "      <td>1</td>\n",
              "      <td>50</td>\n",
              "      <td>5.0</td>\n",
              "      <td>964982931</td>\n",
              "    </tr>\n",
              "  </tbody>\n",
              "</table>\n",
              "</div>"
            ],
            "text/plain": [
              "   userId  movieId  rating  timestamp\n",
              "0       1        1     4.0  964982703\n",
              "1       1        3     4.0  964981247\n",
              "2       1        6     4.0  964982224\n",
              "3       1       47     5.0  964983815\n",
              "4       1       50     5.0  964982931"
            ]
          },
          "metadata": {
            "tags": []
          },
          "execution_count": 2
        }
      ]
    },
    {
      "cell_type": "code",
      "metadata": {
        "id": "d_I93DUPYv7E",
        "colab": {
          "base_uri": "https://localhost:8080/",
          "height": 34
        },
        "outputId": "42fb89e6-1436-4ae0-a10a-e92f37fcda32"
      },
      "source": [
        "print('The dataset contains: ', len(ratings), ' ratings of ', len(movies), ' movies.')"
      ],
      "execution_count": null,
      "outputs": [
        {
          "output_type": "stream",
          "text": [
            "The dataset contains:  100836  ratings of  9742  movies.\n"
          ],
          "name": "stdout"
        }
      ]
    },
    {
      "cell_type": "code",
      "metadata": {
        "id": "KcQWbWHUcwrv"
      },
      "source": [
        "import matplotlib.pyplot as plt\n",
        "import pandas as pd\n",
        "import numpy as np\n",
        "from mpl_toolkits.axes_grid1 import make_axes_locatable\n",
        "from sklearn.cluster import KMeans\n",
        "from sklearn.metrics import mean_squared_error\n",
        "import itertools\n",
        "from sklearn.metrics import silhouette_samples, silhouette_score\n",
        "\n",
        "def draw_scatterplot(x_data, x_label, y_data, y_label):\n",
        "    fig = plt.figure(figsize=(8,8))\n",
        "    ax = fig.add_subplot(111)\n",
        "\n",
        "    plt.xlim(0, 5)\n",
        "    plt.ylim(0, 5)\n",
        "    ax.set_xlabel(x_label)\n",
        "    ax.set_ylabel(y_label)\n",
        "    ax.scatter(x_data, y_data, s=30)\n",
        "\n",
        "\n",
        "def draw_clusters(biased_dataset, predictions, cmap='viridis'):\n",
        "    fig = plt.figure(figsize=(8,8))\n",
        "    ax = fig.add_subplot(111)\n",
        "    plt.xlim(0, 5)\n",
        "    plt.ylim(0, 5)\n",
        "    ax.set_xlabel('Avg scifi rating')\n",
        "    ax.set_ylabel('Avg romance rating')\n",
        "    \n",
        "\n",
        "    clustered = pd.concat([biased_dataset.reset_index(), pd.DataFrame({'group':predictions})], axis=1)\n",
        "    plt.scatter(clustered['avg_scifi_rating'], clustered['avg_romance_rating'], c=clustered['group'], s=20, cmap=cmap)\n",
        "\n",
        "        \n",
        "def clustering_errors(k, data):\n",
        "    kmeans = KMeans(n_clusters=k).fit(data)\n",
        "    predictions = kmeans.predict(data)\n",
        "    #cluster_centers = kmeans.cluster_centers_\n",
        "    # errors = [mean_squared_error(row, cluster_centers[cluster]) for row, cluster in zip(data.values, predictions)]\n",
        "    # return sum(errors)\n",
        "    silhouette_avg = silhouette_score(data, predictions)\n",
        "    return silhouette_avg\n",
        "\n",
        "def sparse_clustering_errors(k, data):\n",
        "    kmeans = KMeans(n_clusters=k).fit(data)\n",
        "    predictions = kmeans.predict(data)\n",
        "    cluster_centers = kmeans.cluster_centers_\n",
        "    errors = [mean_squared_error(row, cluster_centers[cluster]) for row, cluster in zip(data, predictions)]\n",
        "    return sum(errors)\n",
        "\n",
        "\n",
        "def get_genre_ratings(ratings, movies, genres, column_names):\n",
        "    genre_ratings = pd.DataFrame()\n",
        "    for genre in genres:        \n",
        "        genre_movies = movies[movies['genres'].str.contains(genre) ]\n",
        "        avg_genre_votes_per_user = ratings[ratings['movieId'].isin(genre_movies['movieId'])].loc[:, ['userId', 'rating']].groupby(['userId'])['rating'].mean().round(2)\n",
        "        \n",
        "        genre_ratings = pd.concat([genre_ratings, avg_genre_votes_per_user], axis=1)\n",
        "        \n",
        "    print(genre_ratings)\n",
        "    genre_ratings.columns = column_names\n",
        "    return genre_ratings\n",
        "    \n",
        "def get_dataset_3(movies, ratings, genre_ratings):    \n",
        "    # Extract action ratings from dataset\n",
        "    action_movies = movies[movies['genres'].str.contains('Action') ]\n",
        "    # Get average vote on action movies per user\n",
        "    avg_action_votes_per_user = ratings[ratings['movieId'].isin(action_movies['movieId'])].loc[:, ['userId', 'rating']].groupby(['userId'])['rating'].mean().round(2)\n",
        "    # Add action ratings to romance and scifi in dataframe\n",
        "    genre_ratings_3 = pd.concat([genre_ratings, avg_action_votes_per_user], axis=1)\n",
        "    genre_ratings_3.columns = ['avg_romance_rating', 'avg_scifi_rating', 'avg_action_rating']\n",
        "    \n",
        "    # Let's bias the dataset a little so our clusters can separate scifi vs romance more easily\n",
        "    b1 = 3.2\n",
        "    b2 = 2.5\n",
        "    biased_dataset_3 = genre_ratings_3[((genre_ratings_3['avg_romance_rating'] < b1 - 0.2) & (genre_ratings_3['avg_scifi_rating'] > b2)) | ((genre_ratings_3['avg_scifi_rating'] < b1) & (genre_ratings_3['avg_romance_rating'] > b2))]\n",
        "    biased_dataset_3 = pd.concat([biased_dataset_3[:300], genre_ratings_3[:2]])\n",
        "    biased_dataset_3 = pd.DataFrame(biased_dataset_3.to_records())\n",
        "    \n",
        "    return biased_dataset_3\n",
        "\n",
        "def draw_clusters_3d(biased_dataset_3, predictions):\n",
        "    fig = plt.figure(figsize=(8,8))\n",
        "    ax = fig.add_subplot(111)\n",
        "\n",
        "    plt.xlim(0, 5)\n",
        "    plt.ylim(0, 5)\n",
        "    ax.set_xlabel('Avg scifi rating')\n",
        "    ax.set_ylabel('Avg romance rating')\n",
        "\n",
        "    clustered = pd.concat([biased_dataset_3.reset_index(), pd.DataFrame({'group':predictions})], axis=1)\n",
        "\n",
        "    colors = itertools.cycle(plt.rcParams[\"axes.prop_cycle\"].by_key()[\"color\"])\n",
        "\n",
        "    for g in clustered.group.unique():\n",
        "        color = next(colors)\n",
        "        for index, point in clustered[clustered.group == g].iterrows():\n",
        "            if point['avg_action_rating'].astype(float) > 3: \n",
        "                size = 50\n",
        "            else:\n",
        "                size = 15\n",
        "            plt.scatter(point['avg_scifi_rating'], \n",
        "                        point['avg_romance_rating'], \n",
        "                        s=size, \n",
        "                        color=color)\n",
        "    \n",
        "def draw_movie_clusters(clustered, max_users, max_movies):\n",
        "    c=1\n",
        "    for cluster_id in clustered.group.unique():\n",
        "        # To improve visibility, we're showing at most max_users users and max_movies movies per cluster.\n",
        "        # You can change these values to see more users & movies per cluster\n",
        "        d = clustered[clustered.group == cluster_id].drop(['index', 'group'], axis=1)\n",
        "        n_users_in_cluster = d.shape[0]\n",
        "        \n",
        "        d = sort_by_rating_density(d, max_movies, max_users)\n",
        "        \n",
        "        d = d.reindex_axis(d.mean().sort_values(ascending=False).index, axis=1)\n",
        "        d = d.reindex_axis(d.count(axis=1).sort_values(ascending=False).index)\n",
        "        d = d.iloc[:max_users, :max_movies]\n",
        "        n_users_in_plot = d.shape[0]\n",
        "        \n",
        "        # We're only selecting to show clusters that have more than 9 users, otherwise, they're less interesting\n",
        "        if len(d) > 9:\n",
        "            print('cluster # {}'.format(cluster_id))\n",
        "            print('# of users in cluster: {}.'.format(n_users_in_cluster), '# of users in plot: {}'.format(n_users_in_plot))\n",
        "            fig = plt.figure(figsize=(15,4))\n",
        "            ax = plt.gca()\n",
        "\n",
        "            ax.invert_yaxis()\n",
        "            ax.xaxis.tick_top()\n",
        "            labels = d.columns.str[:40]\n",
        "\n",
        "            ax.set_yticks(np.arange(d.shape[0]) , minor=False)\n",
        "            ax.set_xticks(np.arange(d.shape[1]) , minor=False)\n",
        "\n",
        "            ax.set_xticklabels(labels, minor=False)\n",
        "                        \n",
        "            ax.get_yaxis().set_visible(False)\n",
        "\n",
        "            # Heatmap\n",
        "            heatmap = plt.imshow(d, vmin=0, vmax=5, aspect='auto')\n",
        "\n",
        "            ax.set_xlabel('movies')\n",
        "            ax.set_ylabel('User id')\n",
        "\n",
        "            divider = make_axes_locatable(ax)\n",
        "            cax = divider.append_axes(\"right\", size=\"5%\", pad=0.05)\n",
        "\n",
        "            # Color bar\n",
        "            cbar = fig.colorbar(heatmap, ticks=[5, 4, 3, 2, 1, 0], cax=cax)\n",
        "            cbar.ax.set_yticklabels(['5 stars', '4 stars','3 stars','2 stars','1 stars','0 stars'])\n",
        "\n",
        "            plt.setp(ax.get_xticklabels(), rotation=90, fontsize=9)\n",
        "            plt.tick_params(axis='both', which='both', bottom='off', top='off', left='off', labelbottom='off', labelleft='off') \n",
        "            #print('cluster # {} \\n(Showing at most {} users and {} movies)'.format(cluster_id, max_users, max_movies))\n",
        "\n",
        "            plt.show()\n",
        "\n",
        "\n",
        "            # Let's only show 5 clusters\n",
        "            # Remove the next three lines if you want to see all the clusters\n",
        "            # Contribution welcomed: Pythonic way of achieving this\n",
        "            # c = c+1\n",
        "            # if c > 6:\n",
        "            #    break\n",
        "                \n",
        "def get_most_rated_movies(user_movie_ratings, max_number_of_movies):\n",
        "    # 1- Count\n",
        "    user_movie_ratings = user_movie_ratings.append(user_movie_ratings.count(), ignore_index=True)\n",
        "    # 2- sort\n",
        "    user_movie_ratings_sorted = user_movie_ratings.sort_values(len(user_movie_ratings)-1, axis=1, ascending=False)\n",
        "    user_movie_ratings_sorted = user_movie_ratings_sorted.drop(user_movie_ratings_sorted.tail(1).index)\n",
        "    # 3- slice\n",
        "    most_rated_movies = user_movie_ratings_sorted.iloc[:, :max_number_of_movies]\n",
        "    return most_rated_movies\n",
        "\n",
        "def get_users_who_rate_the_most(most_rated_movies, max_number_of_movies):\n",
        "    # Get most voting users\n",
        "    # 1- Count\n",
        "    most_rated_movies['counts'] = pd.Series(most_rated_movies.count(axis=1))\n",
        "    # 2- Sort\n",
        "    most_rated_movies_users = most_rated_movies.sort_values('counts', ascending=False)\n",
        "    # 3- Slice\n",
        "    most_rated_movies_users_selection = most_rated_movies_users.iloc[:max_number_of_movies, :]\n",
        "    most_rated_movies_users_selection = most_rated_movies_users_selection.drop(['counts'], axis=1)\n",
        "    \n",
        "    return most_rated_movies_users_selection\n",
        "\n",
        "def sort_by_rating_density(user_movie_ratings, n_movies, n_users):\n",
        "    most_rated_movies = get_most_rated_movies(user_movie_ratings, n_movies)\n",
        "    most_rated_movies = get_users_who_rate_the_most(most_rated_movies, n_users)\n",
        "    return most_rated_movies\n",
        "    \n",
        "def draw_movies_heatmap(most_rated_movies_users_selection, axis_labels=True):\n",
        "    \n",
        "    # Reverse to match the order of the printed dataframe\n",
        "    #most_rated_movies_users_selection = most_rated_movies_users_selection.iloc[::-1]\n",
        "    \n",
        "    fig = plt.figure(figsize=(15,4))\n",
        "    ax = plt.gca()\n",
        "    \n",
        "    # Draw heatmap\n",
        "    heatmap = ax.imshow(most_rated_movies_users_selection,  interpolation='nearest', vmin=0, vmax=5, aspect='auto')\n",
        "\n",
        "    if axis_labels:\n",
        "        ax.set_yticks(np.arange(most_rated_movies_users_selection.shape[0]) , minor=False)\n",
        "        ax.set_xticks(np.arange(most_rated_movies_users_selection.shape[1]) , minor=False)\n",
        "        ax.invert_yaxis()\n",
        "        ax.xaxis.tick_top()\n",
        "        labels = most_rated_movies_users_selection.columns.str[:40]\n",
        "        ax.set_xticklabels(labels, minor=False)\n",
        "        ax.set_yticklabels(most_rated_movies_users_selection.index, minor=False)\n",
        "        plt.setp(ax.get_xticklabels(), rotation=90)\n",
        "    else:\n",
        "        ax.get_xaxis().set_visible(False)\n",
        "        ax.get_yaxis().set_visible(False)\n",
        "    \n",
        "    ax.grid(False)\n",
        "    ax.set_ylabel('User id')\n",
        "\n",
        "    # Separate heatmap from color bar\n",
        "    divider = make_axes_locatable(ax)\n",
        "    cax = divider.append_axes(\"right\", size=\"5%\", pad=0.05)\n",
        "\n",
        "    # Color bar\n",
        "    cbar = fig.colorbar(heatmap, ticks=[5, 4, 3, 2, 1, 0], cax=cax)\n",
        "    cbar.ax.set_yticklabels(['5 stars', '4 stars','3 stars','2 stars','1 stars','0 stars'])\n",
        "\n",
        "\n",
        "\n",
        "    plt.show()\n",
        "    \n",
        "def bias_genre_rating_dataset(genre_ratings, score_limit_1, score_limit_2):\n",
        "    biased_dataset = genre_ratings[((genre_ratings['avg_romance_rating'] < score_limit_1 - 0.2) & (genre_ratings['avg_scifi_rating'] > score_limit_2)) | ((genre_ratings['avg_scifi_rating'] < score_limit_1) & (genre_ratings['avg_romance_rating'] > score_limit_2))]\n",
        "    biased_dataset = pd.concat([biased_dataset[:300], genre_ratings[:2]])\n",
        "    biased_dataset = pd.DataFrame(biased_dataset.to_records())\n",
        "    return biased_dataset\n"
      ],
      "execution_count": null,
      "outputs": []
    },
    {
      "cell_type": "code",
      "metadata": {
        "id": "lg2Bc9IEY2jG",
        "colab": {
          "base_uri": "https://localhost:8080/",
          "height": 1000
        },
        "outputId": "e71f3d87-593c-4126-8f4d-9cfdbd8e61e2"
      },
      "source": [
        "# Calculate the average rating of romance and scifi movies\n",
        "\n",
        "genre_ratings = get_genre_ratings(ratings, movies, ['Romance', 'Sci-Fi'], ['avg_romance_rating', 'avg_scifi_rating'])\n",
        "genre_ratings.head()"
      ],
      "execution_count": null,
      "outputs": [
        {
          "output_type": "stream",
          "text": [
            "        rating  rating\n",
            "userId                \n",
            "1         4.31    4.22\n",
            "2         4.50    3.88\n",
            "3         0.50    4.20\n",
            "4         3.38    2.83\n",
            "5         3.09    2.50\n",
            "6         3.61    3.48\n",
            "7         2.65    3.15\n",
            "8         3.50    3.25\n",
            "9         3.17    3.00\n",
            "10        3.33    2.00\n",
            "11        4.23    3.50\n",
            "12        4.57    4.50\n",
            "13        3.67    4.20\n",
            "14        3.57    3.50\n",
            "15        3.88    3.58\n",
            "16        3.65    3.69\n",
            "17        3.93    4.40\n",
            "18        3.68    3.64\n",
            "19        2.68    2.56\n",
            "20        3.99    3.23\n",
            "21        3.24    3.45\n",
            "22        2.20    2.10\n",
            "23        3.33    3.91\n",
            "24        3.55    3.64\n",
            "25        5.00    4.72\n",
            "26        3.00    2.00\n",
            "27        4.13    3.38\n",
            "28        2.89    3.18\n",
            "29        4.33    4.11\n",
            "30        5.00    4.65\n",
            "...        ...     ...\n",
            "581       4.22    4.28\n",
            "582       3.83    3.94\n",
            "583       3.44     NaN\n",
            "584       4.35    4.23\n",
            "585       4.25    3.25\n",
            "586       4.14    4.40\n",
            "587       4.13    4.23\n",
            "588       3.00    2.67\n",
            "589       4.57    4.33\n",
            "590       3.44    3.20\n",
            "591       3.12    3.64\n",
            "592       4.07    3.87\n",
            "593       3.35    3.08\n",
            "594       4.52    4.30\n",
            "595       4.33    4.50\n",
            "596       3.55    3.50\n",
            "597       3.89    3.85\n",
            "598       3.68    5.00\n",
            "599       2.67    2.76\n",
            "600       3.00    2.94\n",
            "601       4.38    4.30\n",
            "602       3.24    3.33\n",
            "603       3.45    3.22\n",
            "604       3.07    3.59\n",
            "605       3.33    3.29\n",
            "606       3.74    3.56\n",
            "607       3.52    3.25\n",
            "608       2.89    3.30\n",
            "609       3.20    3.00\n",
            "610       3.73    3.66\n",
            "\n",
            "[610 rows x 2 columns]\n"
          ],
          "name": "stdout"
        },
        {
          "output_type": "execute_result",
          "data": {
            "text/html": [
              "<div>\n",
              "<style scoped>\n",
              "    .dataframe tbody tr th:only-of-type {\n",
              "        vertical-align: middle;\n",
              "    }\n",
              "\n",
              "    .dataframe tbody tr th {\n",
              "        vertical-align: top;\n",
              "    }\n",
              "\n",
              "    .dataframe thead th {\n",
              "        text-align: right;\n",
              "    }\n",
              "</style>\n",
              "<table border=\"1\" class=\"dataframe\">\n",
              "  <thead>\n",
              "    <tr style=\"text-align: right;\">\n",
              "      <th></th>\n",
              "      <th>avg_romance_rating</th>\n",
              "      <th>avg_scifi_rating</th>\n",
              "    </tr>\n",
              "    <tr>\n",
              "      <th>userId</th>\n",
              "      <th></th>\n",
              "      <th></th>\n",
              "    </tr>\n",
              "  </thead>\n",
              "  <tbody>\n",
              "    <tr>\n",
              "      <th>1</th>\n",
              "      <td>4.31</td>\n",
              "      <td>4.22</td>\n",
              "    </tr>\n",
              "    <tr>\n",
              "      <th>2</th>\n",
              "      <td>4.50</td>\n",
              "      <td>3.88</td>\n",
              "    </tr>\n",
              "    <tr>\n",
              "      <th>3</th>\n",
              "      <td>0.50</td>\n",
              "      <td>4.20</td>\n",
              "    </tr>\n",
              "    <tr>\n",
              "      <th>4</th>\n",
              "      <td>3.38</td>\n",
              "      <td>2.83</td>\n",
              "    </tr>\n",
              "    <tr>\n",
              "      <th>5</th>\n",
              "      <td>3.09</td>\n",
              "      <td>2.50</td>\n",
              "    </tr>\n",
              "  </tbody>\n",
              "</table>\n",
              "</div>"
            ],
            "text/plain": [
              "        avg_romance_rating  avg_scifi_rating\n",
              "userId                                      \n",
              "1                     4.31              4.22\n",
              "2                     4.50              3.88\n",
              "3                     0.50              4.20\n",
              "4                     3.38              2.83\n",
              "5                     3.09              2.50"
            ]
          },
          "metadata": {
            "tags": []
          },
          "execution_count": 5
        }
      ]
    },
    {
      "cell_type": "code",
      "metadata": {
        "id": "-4UNITHfc6GN",
        "colab": {
          "base_uri": "https://localhost:8080/",
          "height": 221
        },
        "outputId": "63dff5b9-5bf9-4219-cdaa-98efc641008a"
      },
      "source": [
        "biased_dataset = bias_genre_rating_dataset(genre_ratings, 3.2, 2.5)\n",
        "\n",
        "print( \"Number of records: \", len(biased_dataset))\n",
        "biased_dataset.head()"
      ],
      "execution_count": null,
      "outputs": [
        {
          "output_type": "stream",
          "text": [
            "Number of records:  162\n"
          ],
          "name": "stdout"
        },
        {
          "output_type": "execute_result",
          "data": {
            "text/html": [
              "<div>\n",
              "<style scoped>\n",
              "    .dataframe tbody tr th:only-of-type {\n",
              "        vertical-align: middle;\n",
              "    }\n",
              "\n",
              "    .dataframe tbody tr th {\n",
              "        vertical-align: top;\n",
              "    }\n",
              "\n",
              "    .dataframe thead th {\n",
              "        text-align: right;\n",
              "    }\n",
              "</style>\n",
              "<table border=\"1\" class=\"dataframe\">\n",
              "  <thead>\n",
              "    <tr style=\"text-align: right;\">\n",
              "      <th></th>\n",
              "      <th>userId</th>\n",
              "      <th>avg_romance_rating</th>\n",
              "      <th>avg_scifi_rating</th>\n",
              "    </tr>\n",
              "  </thead>\n",
              "  <tbody>\n",
              "    <tr>\n",
              "      <th>0</th>\n",
              "      <td>3</td>\n",
              "      <td>0.50</td>\n",
              "      <td>4.20</td>\n",
              "    </tr>\n",
              "    <tr>\n",
              "      <th>1</th>\n",
              "      <td>4</td>\n",
              "      <td>3.38</td>\n",
              "      <td>2.83</td>\n",
              "    </tr>\n",
              "    <tr>\n",
              "      <th>2</th>\n",
              "      <td>5</td>\n",
              "      <td>3.09</td>\n",
              "      <td>2.50</td>\n",
              "    </tr>\n",
              "    <tr>\n",
              "      <th>3</th>\n",
              "      <td>7</td>\n",
              "      <td>2.65</td>\n",
              "      <td>3.15</td>\n",
              "    </tr>\n",
              "    <tr>\n",
              "      <th>4</th>\n",
              "      <td>9</td>\n",
              "      <td>3.17</td>\n",
              "      <td>3.00</td>\n",
              "    </tr>\n",
              "  </tbody>\n",
              "</table>\n",
              "</div>"
            ],
            "text/plain": [
              "   userId  avg_romance_rating  avg_scifi_rating\n",
              "0       3                0.50              4.20\n",
              "1       4                3.38              2.83\n",
              "2       5                3.09              2.50\n",
              "3       7                2.65              3.15\n",
              "4       9                3.17              3.00"
            ]
          },
          "metadata": {
            "tags": []
          },
          "execution_count": 6
        }
      ]
    },
    {
      "cell_type": "code",
      "metadata": {
        "id": "wUM1AqE0dJWL",
        "colab": {
          "base_uri": "https://localhost:8080/",
          "height": 501
        },
        "outputId": "a11cb0f7-26cf-498e-8271-48f4cc0d839e"
      },
      "source": [
        "%matplotlib inline\n",
        "draw_scatterplot(biased_dataset['avg_scifi_rating'],'Avg scifi rating', biased_dataset['avg_romance_rating'], 'Avg romance rating')"
      ],
      "execution_count": null,
      "outputs": [
        {
          "output_type": "display_data",
          "data": {
            "image/png": "[encoded data removed]",
            "text/plain": [
              "<Figure size 576x576 with 1 Axes>"
            ]
          },
          "metadata": {
            "tags": [],
            "needs_background": "light"
          }
        }
      ]
    },
    {
      "cell_type": "code",
      "metadata": {
        "id": "N82ZdAr3dRnh"
      },
      "source": [
        "# Let's turn our dataset into a list\n",
        "X = biased_dataset[['avg_scifi_rating','avg_romance_rating']].values"
      ],
      "execution_count": null,
      "outputs": []
    },
    {
      "cell_type": "code",
      "metadata": {
        "id": "g_YE0Ow-dXFm",
        "colab": {
          "base_uri": "https://localhost:8080/",
          "height": 501
        },
        "outputId": "4e63a552-cfb0-4799-aa30-e27a2bacab36"
      },
      "source": [
        "# TODO: Import KMeans\n",
        "from sklearn.cluster import KMeans\n",
        "\n",
        "# TODO: Create an instance of KMeans to find two clusters\n",
        "kmeans_1 = KMeans(n_clusters=2, random_state=0)\n",
        "\n",
        "# TODO: use fit_predict to cluster the dataset\n",
        "predictions = kmeans_1.fit_predict(X)\n",
        "\n",
        "# Plot\n",
        "draw_clusters(biased_dataset, predictions)"
      ],
      "execution_count": null,
      "outputs": [
        {
          "output_type": "display_data",
          "data": {
            "image/png": "[encoded data removed]",
            "text/plain": [
              "<Figure size 576x576 with 1 Axes>"
            ]
          },
          "metadata": {
            "tags": [],
            "needs_background": "light"
          }
        }
      ]
    },
    {
      "cell_type": "code",
      "metadata": {
        "id": "N2t1PsGKda2a",
        "colab": {
          "base_uri": "https://localhost:8080/",
          "height": 501
        },
        "outputId": "ba997726-8392-4027-a537-5ef0a96acbc1"
      },
      "source": [
        "# TODO: Create an instance of KMeans to find three clusters\n",
        "kmeans_2 = KMeans(n_clusters=3, random_state=1)\n",
        "\n",
        "# TODO: use fit_predict to cluster the dataset\n",
        "predictions_2 = kmeans_2.fit_predict(X)\n",
        "\n",
        "# Plot\n",
        "draw_clusters(biased_dataset, predictions_2)"
      ],
      "execution_count": null,
      "outputs": [
        {
          "output_type": "display_data",
          "data": {
            "image/png": "[encoded data removed]",
            "text/plain": [
              "<Figure size 576x576 with 1 Axes>"
            ]
          },
          "metadata": {
            "tags": [],
            "needs_background": "light"
          }
        }
      ]
    },
    {
      "cell_type": "code",
      "metadata": {
        "id": "AB_Wwupxdht-",
        "colab": {
          "base_uri": "https://localhost:8080/",
          "height": 501
        },
        "outputId": "bf9a209b-a797-41a2-9487-df7721a8ff71"
      },
      "source": [
        "# TODO: Create an instance of KMeans to find four clusters\n",
        "kmeans_3 = KMeans(n_clusters=4, random_state=3)\n",
        "\n",
        "# TODO: use fit_predict to cluster the dataset\n",
        "predictions_3 = kmeans_3.fit_predict(X)\n",
        "\n",
        "# Plot\n",
        "draw_clusters(biased_dataset, predictions_3)"
      ],
      "execution_count": null,
      "outputs": [
        {
          "output_type": "display_data",
          "data": {
            "image/png": "[encoded data removed]",
            "text/plain": [
              "<Figure size 576x576 with 1 Axes>"
            ]
          },
          "metadata": {
            "tags": [],
            "needs_background": "light"
          }
        }
      ]
    },
    {
      "cell_type": "code",
      "metadata": {
        "id": "leqchfH4dovc",
        "colab": {
          "base_uri": "https://localhost:8080/",
          "height": 54
        },
        "outputId": "ed871ca2-8c7f-4cf7-9aa4-eadc2a5c4560"
      },
      "source": [
        "# Choose the range of k values to test.\n",
        "# We added a stride of 5 to improve performance. We don't need to calculate the error for every k value\n",
        "possible_k_values = range(2, len(X)+1, 5)\n",
        "\n",
        "# Calculate error values for all k values we're interested in\n",
        "errors_per_k = [clustering_errors(k, X) for k in possible_k_values]"
      ],
      "execution_count": null,
      "outputs": [
        {
          "output_type": "stream",
          "text": [
            "/usr/local/lib/python3.6/dist-packages/ipykernel_launcher.py:35: ConvergenceWarning: Number of distinct clusters (157) found smaller than n_clusters (162). Possibly due to duplicate points in X.\n"
          ],
          "name": "stderr"
        }
      ]
    },
    {
      "cell_type": "code",
      "metadata": {
        "id": "UstuHr3Jd6Rm",
        "colab": {
          "base_uri": "https://localhost:8080/",
          "height": 578
        },
        "outputId": "372b0580-6f61-4477-a06a-b8453dbf5535"
      },
      "source": [
        "# Optional: Look at the values of K vs the silhouette score of running K-means with that value of k\n",
        "list(zip(possible_k_values, errors_per_k))"
      ],
      "execution_count": null,
      "outputs": [
        {
          "output_type": "execute_result",
          "data": {
            "text/plain": [
              "[(2, 0.37651376343962917),\n",
              " (7, 0.3757609158889954),\n",
              " (12, 0.3720864825140804),\n",
              " (17, 0.35928621660377286),\n",
              " (22, 0.3897277366983838),\n",
              " (27, 0.417048850721908),\n",
              " (32, 0.42593793410618247),\n",
              " (37, 0.417292731481557),\n",
              " (42, 0.4236295646590916),\n",
              " (47, 0.41159293514604217),\n",
              " (52, 0.3962395411366408),\n",
              " (57, 0.3952077011435284),\n",
              " (62, 0.41275047126768827),\n",
              " (67, 0.40049272492479215),\n",
              " (72, 0.39633103615640586),\n",
              " (77, 0.3782004210091519),\n",
              " (82, 0.3696309427381603),\n",
              " (87, 0.3544873035677341),\n",
              " (92, 0.33855751539528955),\n",
              " (97, 0.32243167833907527),\n",
              " (102, 0.2938459212563282),\n",
              " (107, 0.27194849791811715),\n",
              " (112, 0.27012790453724705),\n",
              " (117, 0.24879953928785845),\n",
              " (122, 0.24410864970404053),\n",
              " (127, 0.22035658646118855),\n",
              " (132, 0.20610218312338735),\n",
              " (137, 0.19532017775784347),\n",
              " (142, 0.1745705045298946),\n",
              " (147, 0.13831784871757571),\n",
              " (152, 0.10678588096581217),\n",
              " (157, 0.06172839506172839),\n",
              " (162, 0.06172839506172839)]"
            ]
          },
          "metadata": {
            "tags": []
          },
          "execution_count": 13
        }
      ]
    },
    {
      "cell_type": "code",
      "metadata": {
        "id": "CpJXnJAkd9Et",
        "colab": {
          "base_uri": "https://localhost:8080/",
          "height": 388
        },
        "outputId": "2c8561e2-a97e-42d7-cedd-7813e050b35a"
      },
      "source": [
        "# Plot the each value of K vs. the silhouette score at that value\n",
        "fig, ax = plt.subplots(figsize=(16, 6))\n",
        "ax.set_xlabel('K - number of clusters')\n",
        "ax.set_ylabel('Silhouette Score (higher is better)')\n",
        "ax.plot(possible_k_values, errors_per_k)\n",
        "\n",
        "# Ticks and grid\n",
        "xticks = np.arange(min(possible_k_values), max(possible_k_values)+1, 5.0)\n",
        "ax.set_xticks(xticks, minor=False)\n",
        "ax.set_xticks(xticks, minor=True)\n",
        "ax.xaxis.grid(True, which='both')\n",
        "yticks = np.arange(round(min(errors_per_k), 2), max(errors_per_k), .05)\n",
        "ax.set_yticks(yticks, minor=False)\n",
        "ax.set_yticks(yticks, minor=True)\n",
        "ax.yaxis.grid(True, which='both')"
      ],
      "execution_count": null,
      "outputs": [
        {
          "output_type": "display_data",
          "data": {
            "image/png": "[encoded data removed]",
            "text/plain": [
              "<Figure size 1152x432 with 1 Axes>"
            ]
          },
          "metadata": {
            "tags": [],
            "needs_background": "light"
          }
        }
      ]
    },
    {
      "cell_type": "code",
      "metadata": {
        "id": "_8zipRSueDCt",
        "colab": {
          "base_uri": "https://localhost:8080/",
          "height": 501
        },
        "outputId": "66c64770-873e-4fa0-95ce-ceb082d3df0a"
      },
      "source": [
        "# TODO: Create an instance of KMeans to find seven clusters\n",
        "kmeans_4 = KMeans(n_clusters=7, random_state=6)\n",
        "\n",
        "# TODO: use fit_predict to cluster the dataset\n",
        "predictions_4 = kmeans_4.fit_predict(X)\n",
        "\n",
        "# plot\n",
        "draw_clusters(biased_dataset, predictions_4, cmap='Accent') "
      ],
      "execution_count": null,
      "outputs": [
        {
          "output_type": "display_data",
          "data": {
            "image/png": "[encoded data removed]",
            "text/plain": [
              "<Figure size 576x576 with 1 Axes>"
            ]
          },
          "metadata": {
            "tags": [],
            "needs_background": "light"
          }
        }
      ]
    },
    {
      "cell_type": "code",
      "metadata": {
        "id": "CzSyYITaeFQ_",
        "colab": {
          "base_uri": "https://localhost:8080/",
          "height": 1000
        },
        "outputId": "6c662968-7b12-4a58-ce3e-234a54a71c0a"
      },
      "source": [
        "biased_dataset_3_genres = get_genre_ratings(ratings, movies, \n",
        "                                                     ['Romance', 'Sci-Fi', 'Action'], \n",
        "                                                     ['avg_romance_rating', 'avg_scifi_rating', 'avg_action_rating'])\n",
        "biased_dataset_3_genres = bias_genre_rating_dataset(biased_dataset_3_genres, 3.2, 2.5).dropna()\n",
        "\n",
        "print( \"Number of records: \", len(biased_dataset_3_genres))\n",
        "biased_dataset_3_genres.head()"
      ],
      "execution_count": null,
      "outputs": [
        {
          "output_type": "stream",
          "text": [
            "        rating  rating  rating\n",
            "userId                        \n",
            "1         4.31    4.22    4.32\n",
            "2         4.50    3.88    3.95\n",
            "3         0.50    4.20    3.57\n",
            "4         3.38    2.83    3.32\n",
            "5         3.09    2.50    3.11\n",
            "6         3.61    3.48    3.61\n",
            "7         2.65    3.15    3.26\n",
            "8         3.50    3.25    3.33\n",
            "9         3.17    3.00    3.12\n",
            "10        3.33    2.00    3.50\n",
            "11        4.23    3.50    3.54\n",
            "12        4.57    4.50    4.00\n",
            "13        3.67    4.20    4.20\n",
            "14        3.57    3.50    3.33\n",
            "15        3.88    3.58    3.20\n",
            "16        3.65    3.69    3.52\n",
            "17        3.93    4.40    4.23\n",
            "18        3.68    3.64    3.59\n",
            "19        2.68    2.56    2.73\n",
            "20        3.99    3.23    2.76\n",
            "21        3.24    3.45    3.46\n",
            "22        2.20    2.10    2.78\n",
            "23        3.33    3.91    3.54\n",
            "24        3.55    3.64    3.64\n",
            "25        5.00    4.72    4.83\n",
            "26        3.00    2.00    3.00\n",
            "27        4.13    3.38    3.64\n",
            "28        2.89    3.18    3.06\n",
            "29        4.33    4.11    4.02\n",
            "30        5.00    4.65    4.72\n",
            "...        ...     ...     ...\n",
            "581       4.22    4.28    4.29\n",
            "582       3.83    3.94    4.08\n",
            "583       3.44     NaN    3.00\n",
            "584       4.35    4.23    4.28\n",
            "585       4.25    3.25    4.28\n",
            "586       4.14    4.40    4.42\n",
            "587       4.13    4.23    4.12\n",
            "588       3.00    2.67    2.91\n",
            "589       4.57    4.33    4.00\n",
            "590       3.44    3.20    3.28\n",
            "591       3.12    3.64    3.80\n",
            "592       4.07    3.87    3.70\n",
            "593       3.35    3.08    2.96\n",
            "594       4.52    4.30    4.38\n",
            "595       4.33    4.50    4.00\n",
            "596       3.55    3.50    3.39\n",
            "597       3.89    3.85    3.56\n",
            "598       3.68    5.00    4.30\n",
            "599       2.67    2.76    2.74\n",
            "600       3.00    2.94    2.66\n",
            "601       4.38    4.30    4.36\n",
            "602       3.24    3.33    3.57\n",
            "603       3.45    3.22    3.18\n",
            "604       3.07    3.59    3.62\n",
            "605       3.33    3.29    3.22\n",
            "606       3.74    3.56    3.18\n",
            "607       3.52    3.25    3.72\n",
            "608       2.89    3.30    3.33\n",
            "609       3.20    3.00    3.09\n",
            "610       3.73    3.66    3.60\n",
            "\n",
            "[610 rows x 3 columns]\n",
            "Number of records:  161\n"
          ],
          "name": "stdout"
        },
        {
          "output_type": "execute_result",
          "data": {
            "text/html": [
              "<div>\n",
              "<style scoped>\n",
              "    .dataframe tbody tr th:only-of-type {\n",
              "        vertical-align: middle;\n",
              "    }\n",
              "\n",
              "    .dataframe tbody tr th {\n",
              "        vertical-align: top;\n",
              "    }\n",
              "\n",
              "    .dataframe thead th {\n",
              "        text-align: right;\n",
              "    }\n",
              "</style>\n",
              "<table border=\"1\" class=\"dataframe\">\n",
              "  <thead>\n",
              "    <tr style=\"text-align: right;\">\n",
              "      <th></th>\n",
              "      <th>userId</th>\n",
              "      <th>avg_romance_rating</th>\n",
              "      <th>avg_scifi_rating</th>\n",
              "      <th>avg_action_rating</th>\n",
              "    </tr>\n",
              "  </thead>\n",
              "  <tbody>\n",
              "    <tr>\n",
              "      <th>0</th>\n",
              "      <td>3</td>\n",
              "      <td>0.50</td>\n",
              "      <td>4.20</td>\n",
              "      <td>3.57</td>\n",
              "    </tr>\n",
              "    <tr>\n",
              "      <th>1</th>\n",
              "      <td>4</td>\n",
              "      <td>3.38</td>\n",
              "      <td>2.83</td>\n",
              "      <td>3.32</td>\n",
              "    </tr>\n",
              "    <tr>\n",
              "      <th>2</th>\n",
              "      <td>5</td>\n",
              "      <td>3.09</td>\n",
              "      <td>2.50</td>\n",
              "      <td>3.11</td>\n",
              "    </tr>\n",
              "    <tr>\n",
              "      <th>3</th>\n",
              "      <td>7</td>\n",
              "      <td>2.65</td>\n",
              "      <td>3.15</td>\n",
              "      <td>3.26</td>\n",
              "    </tr>\n",
              "    <tr>\n",
              "      <th>4</th>\n",
              "      <td>9</td>\n",
              "      <td>3.17</td>\n",
              "      <td>3.00</td>\n",
              "      <td>3.12</td>\n",
              "    </tr>\n",
              "  </tbody>\n",
              "</table>\n",
              "</div>"
            ],
            "text/plain": [
              "   userId  avg_romance_rating  avg_scifi_rating  avg_action_rating\n",
              "0       3                0.50              4.20               3.57\n",
              "1       4                3.38              2.83               3.32\n",
              "2       5                3.09              2.50               3.11\n",
              "3       7                2.65              3.15               3.26\n",
              "4       9                3.17              3.00               3.12"
            ]
          },
          "metadata": {
            "tags": []
          },
          "execution_count": 16
        }
      ]
    },
    {
      "cell_type": "code",
      "metadata": {
        "id": "FiHWe-X1eOK_"
      },
      "source": [
        "X_with_action = biased_dataset_3_genres[['avg_scifi_rating',\n",
        "                                         'avg_romance_rating', \n",
        "                                         'avg_action_rating']].values"
      ],
      "execution_count": null,
      "outputs": []
    },
    {
      "cell_type": "code",
      "metadata": {
        "id": "S5CLmuGGeRUD",
        "colab": {
          "base_uri": "https://localhost:8080/",
          "height": 501
        },
        "outputId": "e4efa28d-072a-4fc9-e3cc-0beb7c9b4c1b"
      },
      "source": [
        "# TODO: Create an instance of KMeans to find seven clusters\n",
        "kmeans_5 = KMeans(n_clusters=7)\n",
        "\n",
        "# TODO: use fit_predict to cluster the dataset\n",
        "predictions_5 = kmeans_5.fit_predict(X_with_action)\n",
        "\n",
        "# plot\n",
        "draw_clusters_3d(biased_dataset_3_genres, predictions_5)"
      ],
      "execution_count": null,
      "outputs": [
        {
          "output_type": "display_data",
          "data": {
            "image/png": "[encoded data removed]",
            "text/plain": [
              "<Figure size 576x576 with 1 Axes>"
            ]
          },
          "metadata": {
            "tags": [],
            "needs_background": "light"
          }
        }
      ]
    },
    {
      "cell_type": "code",
      "metadata": {
        "id": "J8JCzDhNeWCC",
        "colab": {
          "base_uri": "https://localhost:8080/",
          "height": 129
        },
        "outputId": "28be173e-775d-465d-a4f8-e6a60b753cd7"
      },
      "source": [
        "# Merge the two tables then pivot so we have Users X Movies dataframe\n",
        "ratings_title = pd.merge(ratings, movies[['movieId', 'title']], on='movieId' )\n",
        "user_movie_ratings = pd.pivot_table(ratings_title, index='userId', columns= 'title', values='rating')\n",
        "\n",
        "print('dataset dimensions: ', user_movie_ratings.shape, '\\n\\nSubset example:')\n",
        "user_movie_ratings.iloc[:6, :10]g\n"
      ],
      "execution_count": null,
      "outputs": [
        {
          "output_type": "error",
          "ename": "SyntaxError",
          "evalue": "ignored",
          "traceback": [
            "\u001b[0;36m  File \u001b[0;32m\"<ipython-input-34-f110b9098cc1>\"\u001b[0;36m, line \u001b[0;32m6\u001b[0m\n\u001b[0;31m    user_movie_ratings.iloc[:6, :10]g\u001b[0m\n\u001b[0m                                    ^\u001b[0m\n\u001b[0;31mSyntaxError\u001b[0m\u001b[0;31m:\u001b[0m invalid syntax\n"
          ]
        }
      ]
    },
    {
      "cell_type": "code",
      "metadata": {
        "id": "7oZb9GfEeZ6n",
        "colab": {
          "base_uri": "https://localhost:8080/",
          "height": 129
        },
        "outputId": "88b325f3-9c0d-4713-874a-0588d45d8f62"
      },
      "source": [
        "n_movies = 30\n",
        "n_users = 18\n",
        "most_rated_movies_users_selection = sort_by_rating_density(user_movie_ratings, n_movies, n_users)\n",
        "\n",
        "print('dataset dimensions: ', most_rated_movies_users_selection.shape)\n",
        "most_rated_movies_users_selection.head()g"
      ],
      "execution_count": null,
      "outputs": [
        {
          "output_type": "error",
          "ename": "SyntaxError",
          "evalue": "ignored",
          "traceback": [
            "\u001b[0;36m  File \u001b[0;32m\"<ipython-input-35-b472184ac198>\"\u001b[0;36m, line \u001b[0;32m6\u001b[0m\n\u001b[0;31m    most_rated_movies_users_selection.head()g\u001b[0m\n\u001b[0m                                            ^\u001b[0m\n\u001b[0;31mSyntaxError\u001b[0m\u001b[0;31m:\u001b[0m invalid syntax\n"
          ]
        }
      ]
    },
    {
      "cell_type": "code",
      "metadata": {
        "id": "aHcNsjYAekZO",
        "colab": {
          "base_uri": "https://localhost:8080/",
          "height": 129
        },
        "outputId": "6a3989b9-c641-48e5-f191-c5425f3c4c4e"
      },
      "source": [
        "draw_movies_heatmap(most_rated_movies_users_selection)g"
      ],
      "execution_count": null,
      "outputs": [
        {
          "output_type": "error",
          "ename": "SyntaxError",
          "evalue": "ignored",
          "traceback": [
            "\u001b[0;36m  File \u001b[0;32m\"<ipython-input-36-fea05d832260>\"\u001b[0;36m, line \u001b[0;32m1\u001b[0m\n\u001b[0;31m    draw_movies_heatmap(most_rated_movies_users_selection)g\u001b[0m\n\u001b[0m                                                          ^\u001b[0m\n\u001b[0;31mSyntaxError\u001b[0m\u001b[0;31m:\u001b[0m invalid syntax\n"
          ]
        }
      ]
    },
    {
      "cell_type": "code",
      "metadata": {
        "id": "o-enq5AAeoBo",
        "colab": {
          "base_uri": "https://localhost:8080/",
          "height": 129
        },
        "outputId": "3e2c57b6-1283-4ff1-d8ef-e9872e08d452"
      },
      "source": [
        "user_movie_ratings =  pd.pivot_table(ratings_title, index='userId', columns= 'title', values='rating')\n",
        "most_rated_movies_1k = get_most_rated_movies(user_movie_ratings, 1000)g"
      ],
      "execution_count": null,
      "outputs": [
        {
          "output_type": "error",
          "ename": "SyntaxError",
          "evalue": "ignored",
          "traceback": [
            "\u001b[0;36m  File \u001b[0;32m\"<ipython-input-37-9a08b71b2804>\"\u001b[0;36m, line \u001b[0;32m2\u001b[0m\n\u001b[0;31m    most_rated_movies_1k = get_most_rated_movies(user_movie_ratings, 1000)g\u001b[0m\n\u001b[0m                                                                          ^\u001b[0m\n\u001b[0;31mSyntaxError\u001b[0m\u001b[0;31m:\u001b[0m invalid syntax\n"
          ]
        }
      ]
    },
    {
      "cell_type": "code",
      "metadata": {
        "id": "gu5bMbiz03-q",
        "colab": {
          "base_uri": "https://localhost:8080/",
          "height": 428
        },
        "outputId": "a2ad38e5-513a-4712-96bc-4a397a77a82b"
      },
      "source": [
        "!pip install pandas==0.21.0\n"
      ],
      "execution_count": null,
      "outputs": [
        {
          "output_type": "stream",
          "text": [
            "Collecting pandas==0.21.0\n",
            "\u001b[?25l  Downloading https://files.pythonhosted.org/packages/9b/b7/d829de9794567443fbe230a666910d2c5ea3c28a6554f1246ab004583b82/pandas-0.21.0-cp36-cp36m-manylinux1_x86_64.whl (26.2MB)\n",
            "\u001b[K     |████████████████████████████████| 26.2MB 162kB/s \n",
            "\u001b[?25hRequirement already satisfied: python-dateutil>=2 in /usr/local/lib/python3.6/dist-packages (from pandas==0.21.0) (2.8.1)\n",
            "Requirement already satisfied: numpy>=1.9.0 in /usr/local/lib/python3.6/dist-packages (from pandas==0.21.0) (1.18.5)\n",
            "Requirement already satisfied: pytz>=2011k in /usr/local/lib/python3.6/dist-packages (from pandas==0.21.0) (2018.9)\n",
            "Requirement already satisfied: six>=1.5 in /usr/local/lib/python3.6/dist-packages (from python-dateutil>=2->pandas==0.21.0) (1.15.0)\n",
            "\u001b[31mERROR: xarray 0.15.1 has requirement pandas>=0.25, but you'll have pandas 0.21.0 which is incompatible.\u001b[0m\n",
            "\u001b[31mERROR: seaborn 0.10.1 has requirement pandas>=0.22.0, but you'll have pandas 0.21.0 which is incompatible.\u001b[0m\n",
            "\u001b[31mERROR: plotnine 0.6.0 has requirement pandas>=0.25.0, but you'll have pandas 0.21.0 which is incompatible.\u001b[0m\n",
            "\u001b[31mERROR: mizani 0.6.0 has requirement pandas>=0.25.0, but you'll have pandas 0.21.0 which is incompatible.\u001b[0m\n",
            "\u001b[31mERROR: google-colab 1.0.0 has requirement pandas~=1.0.0; python_version >= \"3.0\", but you'll have pandas 0.21.0 which is incompatible.\u001b[0m\n",
            "\u001b[31mERROR: fbprophet 0.7.1 has requirement pandas>=1.0.4, but you'll have pandas 0.21.0 which is incompatible.\u001b[0m\n",
            "Installing collected packages: pandas\n",
            "  Found existing installation: pandas 1.0.5\n",
            "    Uninstalling pandas-1.0.5:\n",
            "      Successfully uninstalled pandas-1.0.5\n",
            "Successfully installed pandas-0.21.0\n"
          ],
          "name": "stdout"
        },
        {
          "output_type": "display_data",
          "data": {
            "application/vnd.colab-display-data+json": {
              "pip_warning": {
                "packages": [
                  "pandas"
                ]
              }
            }
          },
          "metadata": {
            "tags": []
          }
        }
      ]
    },
    {
      "cell_type": "code",
      "metadata": {
        "id": "bI4CXUUm3CNE",
        "colab": {
          "base_uri": "https://localhost:8080/",
          "height": 35
        },
        "outputId": "87db756f-7720-47fd-cb3a-222590a880ed"
      },
      "source": [
        "pd.__version__"
      ],
      "execution_count": null,
      "outputs": [
        {
          "output_type": "execute_result",
          "data": {
            "application/vnd.google.colaboratory.intrinsic+json": {
              "type": "string"
            },
            "text/plain": [
              "'0.21.0'"
            ]
          },
          "metadata": {
            "tags": []
          },
          "execution_count": 24
        }
      ]
    },
    {
      "cell_type": "code",
      "metadata": {
        "id": "FoSv3VUIfxdg",
        "colab": {
          "base_uri": "https://localhost:8080/",
          "height": 129
        },
        "outputId": "e9d13412-271b-4083-c8a3-4fefd322ac9f"
      },
      "source": [
        "sparse_ratings=csr_matrix(pd.SparseDataFrame(most_rated_movies_1k).to_coo() )g"
      ],
      "execution_count": null,
      "outputs": [
        {
          "output_type": "error",
          "ename": "SyntaxError",
          "evalue": "ignored",
          "traceback": [
            "\u001b[0;36m  File \u001b[0;32m\"<ipython-input-38-50fbb22e5f6d>\"\u001b[0;36m, line \u001b[0;32m1\u001b[0m\n\u001b[0;31m    sparse_ratings=csr_matrix(pd.SparseDataFrame(most_rated_movies_1k).to_coo() )g\u001b[0m\n\u001b[0m                                                                                 ^\u001b[0m\n\u001b[0;31mSyntaxError\u001b[0m\u001b[0;31m:\u001b[0m invalid syntax\n"
          ]
        }
      ]
    },
    {
      "cell_type": "markdown",
      "metadata": {
        "id": "P_8zfQ5uybyn"
      },
      "source": [
        ""
      ]
    },
    {
      "cell_type": "code",
      "metadata": {
        "id": "XOVSfAHB3qxk",
        "colab": {
          "base_uri": "https://localhost:8080/",
          "height": 129
        },
        "outputId": "4e27a993-ac9a-4bdd-d8ef-1d1b32eb44a2"
      },
      "source": [
        "# 20 clusters\n",
        "predictions = KMeans(n_clusters=20, algorithm='full').fit_predict(sparse_ratings)g"
      ],
      "execution_count": null,
      "outputs": [
        {
          "output_type": "error",
          "ename": "SyntaxError",
          "evalue": "ignored",
          "traceback": [
            "\u001b[0;36m  File \u001b[0;32m\"<ipython-input-39-98deb8d57f49>\"\u001b[0;36m, line \u001b[0;32m2\u001b[0m\n\u001b[0;31m    predictions = KMeans(n_clusters=20, algorithm='full').fit_predict(sparse_ratings)g\u001b[0m\n\u001b[0m                                                                                     ^\u001b[0m\n\u001b[0;31mSyntaxError\u001b[0m\u001b[0;31m:\u001b[0m invalid syntax\n"
          ]
        }
      ]
    },
    {
      "cell_type": "code",
      "metadata": {
        "id": "sW7i908I3vZE",
        "colab": {
          "base_uri": "https://localhost:8080/",
          "height": 129
        },
        "outputId": "09ae8271-59ce-4e34-b64c-c19f55139907"
      },
      "source": [
        "max_users = 70\n",
        "max_movies = 50\n",
        "\n",
        "clustered = pd.concat([most_rated_movies_1k.reset_index(), pd.DataFrame({'group':predictions})], axis=1)\n",
        "draw_movie_clusters(clustered, max_users, max_movies)g"
      ],
      "execution_count": null,
      "outputs": [
        {
          "output_type": "error",
          "ename": "SyntaxError",
          "evalue": "ignored",
          "traceback": [
            "\u001b[0;36m  File \u001b[0;32m\"<ipython-input-40-2d7d30f1e1f0>\"\u001b[0;36m, line \u001b[0;32m5\u001b[0m\n\u001b[0;31m    draw_movie_clusters(clustered, max_users, max_movies)g\u001b[0m\n\u001b[0m                                                         ^\u001b[0m\n\u001b[0;31mSyntaxError\u001b[0m\u001b[0;31m:\u001b[0m invalid syntax\n"
          ]
        }
      ]
    },
    {
      "cell_type": "code",
      "metadata": {
        "id": "VS04Trek3-8i"
      },
      "source": [
        ""
      ],
      "execution_count": null,
      "outputs": []
    },
    {
      "cell_type": "code",
      "metadata": {
        "id": "6H8x-qBE6kyy"
      },
      "source": [
        ""
      ],
      "execution_count": null,
      "outputs": []
    },
    {
      "cell_type": "code",
      "metadata": {
        "id": "umQISKND6n_5"
      },
      "source": [
        ""
      ],
      "execution_count": null,
      "outputs": []
    },
    {
      "cell_type": "code",
      "metadata": {
        "id": "wO8aoTpu6skA",
        "colab": {
          "base_uri": "https://localhost:8080/",
          "height": 153
        },
        "outputId": "059b7d47-7f41-49d4-a8c6-6a71ab25445f"
      },
      "source": [
        "# The average rating of 20 movies as rated by the users in the cluster\n",
        "cluster.mean().head(7)"
      ],
      "execution_count": null,
      "outputs": [
        {
          "output_type": "execute_result",
          "data": {
            "text/plain": [
              "Forrest Gump (1994)                 4.6\n",
              "Almost Famous (2000)                3.4\n",
              "Mission: Impossible (1996)          2.9\n",
              "Memento (2000)                      4.5\n",
              "Good Will Hunting (1997)            3.7\n",
              "Run Lola Run (Lola rennt) (1998)    4.3\n",
              "Reservoir Dogs (1992)               4.9\n",
              "dtype: float64"
            ]
          },
          "metadata": {
            "tags": []
          },
          "execution_count": 33
        }
      ]
    },
    {
      "cell_type": "code",
      "metadata": {
        "id": "pe4qyt1562wL"
      },
      "source": [
        ""
      ],
      "execution_count": null,
      "outputs": []
    }
  ]
}