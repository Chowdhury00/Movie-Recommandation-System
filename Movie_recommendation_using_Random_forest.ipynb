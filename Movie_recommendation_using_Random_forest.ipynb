{
  "nbformat": 4,
  "nbformat_minor": 0,
  "metadata": {
    "colab": {
      "name": "Movie recommendation using Random forest.ipynb",
      "provenance": [],
      "collapsed_sections": []
    },
    "kernelspec": {
      "name": "python3",
      "display_name": "Python 3"
    }
  },
  "cells": [
    {
      "cell_type": "code",
      "metadata": {
        "id": "hSifPKyHa0xM"
      },
      "source": [
        "import numpy as np\n",
        "import pandas as pd\n",
        "import matplotlib.pyplot as plt\n",
        "%matplotlib inline\n",
        "\n",
        "from scipy import interp\n",
        "\n",
        "from sklearn.naive_bayes import GaussianNB\n",
        "from sklearn.ensemble import GradientBoostingClassifier, RandomForestClassifier\n",
        "\n",
        "from sklearn.feature_extraction.text import TfidfVectorizer\n",
        "from sklearn.metrics.pairwise import linear_kernel\n",
        "\n",
        "from sklearn.model_selection import cross_val_predict, cross_val_score, cross_validate, StratifiedKFold\n",
        "from sklearn.metrics import classification_report,confusion_matrix, roc_curve, auc"
      ],
      "execution_count": null,
      "outputs": []
    },
    {
      "cell_type": "code",
      "metadata": {
        "id": "iDAIlZGIbWba",
        "colab": {
          "base_uri": "https://localhost:8080/",
          "height": 97
        },
        "outputId": "58c02594-bf66-473e-8699-6d819811f620"
      },
      "source": [
        "# all data\n",
        "df = pd.read_csv(\"/content/drive/My Drive/Colab Notebooks/dataset(445)/Random forest/allData.tsv\", sep='\\t')\n",
        "print(f\"Shape: {df.shape}\")\n",
        "df.head(1)"
      ],
      "execution_count": null,
      "outputs": [
        {
          "output_type": "stream",
          "text": [
            "Shape: (31620, 10)\n"
          ],
          "name": "stdout"
        },
        {
          "output_type": "execute_result",
          "data": {
            "text/html": [
              "<div>\n",
              "<style scoped>\n",
              "    .dataframe tbody tr th:only-of-type {\n",
              "        vertical-align: middle;\n",
              "    }\n",
              "\n",
              "    .dataframe tbody tr th {\n",
              "        vertical-align: top;\n",
              "    }\n",
              "\n",
              "    .dataframe thead th {\n",
              "        text-align: right;\n",
              "    }\n",
              "</style>\n",
              "<table border=\"1\" class=\"dataframe\">\n",
              "  <thead>\n",
              "    <tr style=\"text-align: right;\">\n",
              "      <th></th>\n",
              "      <th>userID</th>\n",
              "      <th>age</th>\n",
              "      <th>gender</th>\n",
              "      <th>movieID</th>\n",
              "      <th>name</th>\n",
              "      <th>year</th>\n",
              "      <th>genre1</th>\n",
              "      <th>genre2</th>\n",
              "      <th>genre3</th>\n",
              "      <th>rating</th>\n",
              "    </tr>\n",
              "  </thead>\n",
              "  <tbody>\n",
              "    <tr>\n",
              "      <th>0</th>\n",
              "      <td>747</td>\n",
              "      <td>1</td>\n",
              "      <td>F</td>\n",
              "      <td>1193</td>\n",
              "      <td>One Flew Over the Cuckoo's Nest</td>\n",
              "      <td>1975</td>\n",
              "      <td>Drama</td>\n",
              "      <td>NaN</td>\n",
              "      <td>NaN</td>\n",
              "      <td>5</td>\n",
              "    </tr>\n",
              "  </tbody>\n",
              "</table>\n",
              "</div>"
            ],
            "text/plain": [
              "   userID  age gender  movieID  ... genre1  genre2 genre3 rating\n",
              "0     747    1      F     1193  ...  Drama     NaN    NaN      5\n",
              "\n",
              "[1 rows x 10 columns]"
            ]
          },
          "metadata": {
            "tags": []
          },
          "execution_count": 2
        }
      ]
    },
    {
      "cell_type": "code",
      "metadata": {
        "id": "xz2gS-y-bet7",
        "colab": {
          "base_uri": "https://localhost:8080/",
          "height": 97
        },
        "outputId": "187e4114-dc69-4fa7-c813-527bafb8ec36"
      },
      "source": [
        "# movie data\n",
        "movies = pd.read_csv(\"/content/drive/My Drive/Colab Notebooks/dataset(445)/Random forest/movies.tsv\", sep='\\t')\n",
        "print(f\"Shape: {df.shape}\")\n",
        "movies.head(1)"
      ],
      "execution_count": null,
      "outputs": [
        {
          "output_type": "stream",
          "text": [
            "Shape: (31620, 10)\n"
          ],
          "name": "stdout"
        },
        {
          "output_type": "execute_result",
          "data": {
            "text/html": [
              "<div>\n",
              "<style scoped>\n",
              "    .dataframe tbody tr th:only-of-type {\n",
              "        vertical-align: middle;\n",
              "    }\n",
              "\n",
              "    .dataframe tbody tr th {\n",
              "        vertical-align: top;\n",
              "    }\n",
              "\n",
              "    .dataframe thead th {\n",
              "        text-align: right;\n",
              "    }\n",
              "</style>\n",
              "<table border=\"1\" class=\"dataframe\">\n",
              "  <thead>\n",
              "    <tr style=\"text-align: right;\">\n",
              "      <th></th>\n",
              "      <th>movieID</th>\n",
              "      <th>name</th>\n",
              "      <th>year</th>\n",
              "      <th>genre1</th>\n",
              "      <th>genre2</th>\n",
              "      <th>genre3</th>\n",
              "    </tr>\n",
              "  </thead>\n",
              "  <tbody>\n",
              "    <tr>\n",
              "      <th>0</th>\n",
              "      <td>1</td>\n",
              "      <td>Toy Story</td>\n",
              "      <td>1995</td>\n",
              "      <td>Animation</td>\n",
              "      <td>Children's</td>\n",
              "      <td>Comedy</td>\n",
              "    </tr>\n",
              "  </tbody>\n",
              "</table>\n",
              "</div>"
            ],
            "text/plain": [
              "   movieID        name  year     genre1      genre2  genre3\n",
              "0        1  Toy Story   1995  Animation  Children's  Comedy"
            ]
          },
          "metadata": {
            "tags": []
          },
          "execution_count": 3
        }
      ]
    },
    {
      "cell_type": "code",
      "metadata": {
        "id": "ofj8kOBHboU9",
        "colab": {
          "base_uri": "https://localhost:8080/",
          "height": 80
        },
        "outputId": "3d3facac-d60c-4241-9825-1cb7ad0023dc"
      },
      "source": [
        "\n",
        "df_ratings = pd.read_csv('/content/drive/My Drive/Colab Notebooks/dataset(445)/Random forest/ratings.csv')\n",
        "df_ratings.head(1)"
      ],
      "execution_count": null,
      "outputs": [
        {
          "output_type": "execute_result",
          "data": {
            "text/html": [
              "<div>\n",
              "<style scoped>\n",
              "    .dataframe tbody tr th:only-of-type {\n",
              "        vertical-align: middle;\n",
              "    }\n",
              "\n",
              "    .dataframe tbody tr th {\n",
              "        vertical-align: top;\n",
              "    }\n",
              "\n",
              "    .dataframe thead th {\n",
              "        text-align: right;\n",
              "    }\n",
              "</style>\n",
              "<table border=\"1\" class=\"dataframe\">\n",
              "  <thead>\n",
              "    <tr style=\"text-align: right;\">\n",
              "      <th></th>\n",
              "      <th>userID</th>\n",
              "      <th>movieID</th>\n",
              "      <th>rating</th>\n",
              "    </tr>\n",
              "  </thead>\n",
              "  <tbody>\n",
              "    <tr>\n",
              "      <th>0</th>\n",
              "      <td>747</td>\n",
              "      <td>1193</td>\n",
              "      <td>5</td>\n",
              "    </tr>\n",
              "  </tbody>\n",
              "</table>\n",
              "</div>"
            ],
            "text/plain": [
              "   userID  movieID  rating\n",
              "0     747     1193       5"
            ]
          },
          "metadata": {
            "tags": []
          },
          "execution_count": 4
        }
      ]
    },
    {
      "cell_type": "code",
      "metadata": {
        "id": "fG_qYxsabwJE"
      },
      "source": [
        "df['rating'].mask(df['rating'] < 4, 0, inplace=True)\n",
        "df['rating'].mask(df['rating'] > 3, 1, inplace=True)"
      ],
      "execution_count": null,
      "outputs": []
    },
    {
      "cell_type": "code",
      "metadata": {
        "id": "UmJfqWFSb1ip",
        "colab": {
          "base_uri": "https://localhost:8080/",
          "height": 258
        },
        "outputId": "bf0bba85-07e2-44fb-b232-2106d091aa63"
      },
      "source": [
        "def recommendation_without_user_info(df, age, gender, number_recommendations):\n",
        "    '''\n",
        "    function returns 5 random movies which have been recommended by a gradient boosting classifier\n",
        "    without user information\n",
        "    \n",
        "    @param df: movie dataset 'allData'\n",
        "    @param age: user age\n",
        "    @param gender: user gender\n",
        "    @param number_recommendations: number of recommendations returned\n",
        "    '''\n",
        "    # fit\n",
        "    # ---------------------------------------------------\n",
        "    # User information before any movie ratings\n",
        "    X = df[['age', 'gender', 'year', 'genre1', 'genre2', 'genre3']]\n",
        "   \n",
        "    y = df['rating']\n",
        "\n",
        "    # Preprocessing\n",
        "    # One hot encoding\n",
        "    dummyvars = pd.get_dummies(X[['gender', 'genre1', 'genre2', 'genre3']])\n",
        "    # append the dummy variables to df\n",
        "    X = pd.concat([X[['age', 'year']], dummyvars], axis = 1)\n",
        "\n",
        "    print(\"GradientBoostingClassifier\")\n",
        "    gbclf = GradientBoostingClassifier(n_estimators=100)\n",
        "    gbclf.fit(X=X, y=y)\n",
        "    \n",
        "    # predict\n",
        "    # ---------------------------------------------------\n",
        "    # concat user age and gender with movie information, and make predictions\n",
        "    # e.g. user age 25 and male\n",
        "    X = df[['age', 'gender', 'year', 'genre1', 'genre2', 'genre3']]\n",
        "    # set age\n",
        "    X['age'] = age\n",
        "    dummyvars = pd.get_dummies(X[['gender', 'genre1', 'genre2', 'genre3']])\n",
        "    # set gender\n",
        "    dummyvars['gender_F'] = 0\n",
        "    dummyvars['gender_M'] = 0\n",
        "    if gender=='M':\n",
        "        dummyvars['gender_M'] = 1\n",
        "    elif gender=='F':\n",
        "        dummyvars['gender_F'] = 1\n",
        "    # append the dummy variables to df\n",
        "    X = pd.concat([X[['age', 'year']], dummyvars], axis = 1)\n",
        "\n",
        "    # make predictions\n",
        "    y_pred = gbclf.predict(X=X)\n",
        "    \n",
        "    # concat predictions to movie information\n",
        "    df_pred = pd.concat([df[['movieID', 'name']], pd.DataFrame(y_pred, index=df.index, columns=['pred_rating'])], axis = 1)\n",
        "    # shuffle 5 random movies with rating 1\n",
        "    df_pred = df_pred[df_pred.pred_rating==1]\n",
        "    recommendation = df_pred.drop('pred_rating', axis=1).sample(number_recommendations, random_state=10).set_index('movieID')\n",
        "    \n",
        "    return recommendation\n",
        "\n",
        "# test function\n",
        "print(recommendation_without_user_info(df=df, age=25, gender='F', number_recommendations=5))"
      ],
      "execution_count": null,
      "outputs": [
        {
          "output_type": "stream",
          "text": [
            "GradientBoostingClassifier\n",
            "                            name\n",
            "movieID                         \n",
            "2078           Jungle Book, The \n",
            "3035             Mister Roberts \n",
            "2506          Other Sister, The \n",
            "3159              Fantasia 2000 \n",
            "3420     ...And Justice for All \n"
          ],
          "name": "stdout"
        },
        {
          "output_type": "stream",
          "text": [
            "/usr/local/lib/python3.6/dist-packages/ipykernel_launcher.py:34: SettingWithCopyWarning: \n",
            "A value is trying to be set on a copy of a slice from a DataFrame.\n",
            "Try using .loc[row_indexer,col_indexer] = value instead\n",
            "\n",
            "See the caveats in the documentation: https://pandas.pydata.org/pandas-docs/stable/user_guide/indexing.html#returning-a-view-versus-a-copy\n"
          ],
          "name": "stderr"
        }
      ]
    }
  ]
}